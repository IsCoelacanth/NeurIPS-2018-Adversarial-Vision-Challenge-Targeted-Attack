{
 "cells": [
  {
   "cell_type": "code",
   "execution_count": 16,
   "metadata": {},
   "outputs": [],
   "source": [
    "import os, sys, csv\n",
    "from scipy.misc import imread, imsave\n",
    "import PIL.Image\n",
    "import numpy as np"
   ]
  },
  {
   "cell_type": "code",
   "execution_count": 17,
   "metadata": {},
   "outputs": [],
   "source": [
    "def read_images():\n",
    "    data_dir = os.path.join(os.getcwd(), \"flower\")\n",
    "    with open(os.path.join(data_dir, \"target_class.csv\")) as csvfile:\n",
    "        reader = csv.reader(csvfile)\n",
    "        for row in reader:\n",
    "            yield (row[0], np.array(PIL.Image.open(os.path.join(data_dir, row[1])).convert(\"RGB\")), int(row[2]))\n"
   ]
  },
  {
   "cell_type": "code",
   "execution_count": 18,
   "metadata": {},
   "outputs": [
    {
     "name": "stdout",
     "output_type": "stream",
     "text": [
      "[[[ 12  19   9]\n",
      "  [ 15  22  11]\n",
      "  [ 17  25  11]\n",
      "  ...\n",
      "  [ 12  16   7]\n",
      "  [109 133  65]\n",
      "  [181 204 117]]\n",
      "\n",
      " [[ 14  21  11]\n",
      "  [ 17  24  13]\n",
      "  [ 18  25  13]\n",
      "  ...\n",
      "  [  0   0   0]\n",
      "  [ 10  18   7]\n",
      "  [ 98 126  64]]\n",
      "\n",
      " [[ 52  75  22]\n",
      "  [ 32  50  15]\n",
      "  [ 16  24  12]\n",
      "  ...\n",
      "  [  0   0   0]\n",
      "  [  0   0   0]\n",
      "  [  0   0   0]]\n",
      "\n",
      " ...\n",
      "\n",
      " [[ 94  78  58]\n",
      "  [ 86  72  51]\n",
      "  [ 86  70  50]\n",
      "  ...\n",
      "  [ 43  30  27]\n",
      "  [ 27  29  17]\n",
      "  [ 63  59  36]]\n",
      "\n",
      " [[ 98  79  58]\n",
      "  [ 94  77  56]\n",
      "  [ 84  68  49]\n",
      "  ...\n",
      "  [ 58  49  35]\n",
      "  [ 72  57  39]\n",
      "  [ 80  65  46]]\n",
      "\n",
      " [[ 93  76  57]\n",
      "  [ 99  80  60]\n",
      "  [ 89  73  53]\n",
      "  ...\n",
      "  [101  79  61]\n",
      "  [ 70  54  40]\n",
      "  [ 47  33  31]]]\n"
     ]
    }
   ],
   "source": [
    "for (file_name, image, label) in read_images():\n",
    "    print(image)"
   ]
  },
  {
   "cell_type": "code",
   "execution_count": null,
   "metadata": {},
   "outputs": [],
   "source": [
    "with tf.graph() as Graph:\n",
    "    "
   ]
  }
 ],
 "metadata": {
  "kernelspec": {
   "display_name": "Python [conda env:nipsavc]",
   "language": "python",
   "name": "conda-env-nipsavc-py"
  },
  "language_info": {
   "codemirror_mode": {
    "name": "ipython",
    "version": 3
   },
   "file_extension": ".py",
   "mimetype": "text/x-python",
   "name": "python",
   "nbconvert_exporter": "python",
   "pygments_lexer": "ipython3",
   "version": "3.6.6"
  }
 },
 "nbformat": 4,
 "nbformat_minor": 2
}
